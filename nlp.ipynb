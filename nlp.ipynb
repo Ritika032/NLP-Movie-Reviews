{
 "cells": [
  {
   "cell_type": "code",
   "execution_count": 1,
   "id": "68e1d681",
   "metadata": {},
   "outputs": [],
   "source": [
    "import pandas as pd\n",
    "import numpy as np\n",
    "import matplotlib.pyplot as plt\n",
    "import seaborn as sns"
   ]
  },
  {
   "cell_type": "code",
   "execution_count": 2,
   "id": "cdd74915",
   "metadata": {},
   "outputs": [],
   "source": [
    "df = pd.read_csv('IMDB Dataset.csv')"
   ]
  },
  {
   "cell_type": "code",
   "execution_count": 3,
   "id": "1b3e4897",
   "metadata": {},
   "outputs": [
    {
     "data": {
      "text/html": [
       "<div>\n",
       "<style scoped>\n",
       "    .dataframe tbody tr th:only-of-type {\n",
       "        vertical-align: middle;\n",
       "    }\n",
       "\n",
       "    .dataframe tbody tr th {\n",
       "        vertical-align: top;\n",
       "    }\n",
       "\n",
       "    .dataframe thead th {\n",
       "        text-align: right;\n",
       "    }\n",
       "</style>\n",
       "<table border=\"1\" class=\"dataframe\">\n",
       "  <thead>\n",
       "    <tr style=\"text-align: right;\">\n",
       "      <th></th>\n",
       "      <th>review</th>\n",
       "      <th>sentiment</th>\n",
       "    </tr>\n",
       "  </thead>\n",
       "  <tbody>\n",
       "    <tr>\n",
       "      <th>0</th>\n",
       "      <td>One of the other reviewers has mentioned that ...</td>\n",
       "      <td>positive</td>\n",
       "    </tr>\n",
       "    <tr>\n",
       "      <th>1</th>\n",
       "      <td>A wonderful little production. &lt;br /&gt;&lt;br /&gt;The...</td>\n",
       "      <td>positive</td>\n",
       "    </tr>\n",
       "    <tr>\n",
       "      <th>2</th>\n",
       "      <td>I thought this was a wonderful way to spend ti...</td>\n",
       "      <td>positive</td>\n",
       "    </tr>\n",
       "    <tr>\n",
       "      <th>3</th>\n",
       "      <td>Basically there's a family where a little boy ...</td>\n",
       "      <td>negative</td>\n",
       "    </tr>\n",
       "    <tr>\n",
       "      <th>4</th>\n",
       "      <td>Petter Mattei's \"Love in the Time of Money\" is...</td>\n",
       "      <td>positive</td>\n",
       "    </tr>\n",
       "  </tbody>\n",
       "</table>\n",
       "</div>"
      ],
      "text/plain": [
       "                                              review sentiment\n",
       "0  One of the other reviewers has mentioned that ...  positive\n",
       "1  A wonderful little production. <br /><br />The...  positive\n",
       "2  I thought this was a wonderful way to spend ti...  positive\n",
       "3  Basically there's a family where a little boy ...  negative\n",
       "4  Petter Mattei's \"Love in the Time of Money\" is...  positive"
      ]
     },
     "execution_count": 3,
     "metadata": {},
     "output_type": "execute_result"
    }
   ],
   "source": [
    "df.head()"
   ]
  },
  {
   "cell_type": "code",
   "execution_count": 4,
   "id": "436ec5c2",
   "metadata": {},
   "outputs": [
    {
     "name": "stdout",
     "output_type": "stream",
     "text": [
      "(50000, 2)\n"
     ]
    }
   ],
   "source": [
    "print(df.shape)"
   ]
  },
  {
   "cell_type": "code",
   "execution_count": 5,
   "id": "e96719e9",
   "metadata": {},
   "outputs": [],
   "source": [
    "import nltk"
   ]
  },
  {
   "cell_type": "code",
   "execution_count": 6,
   "id": "9cb7cd3f",
   "metadata": {},
   "outputs": [
    {
     "name": "stdout",
     "output_type": "stream",
     "text": [
      "Probably my all-time favorite movie, a story of selflessness, sacrifice and dedication to a noble cause, but it's not preachy or boring. It just never gets old, despite my having seen it some 15 or more times in the last 25 years. Paul Lukas' performance brings tears to my eyes, and Bette Davis, in one of her very few truly sympathetic roles, is a delight. The kids are, as grandma says, more like \"dressed-up midgets\" than children, but that only makes them more fun to watch. And the mother's slow awakening to what's happening in the world and under her own roof is believable and startling. If I had a dozen thumbs, they'd all be \"up\" for this movie.\n"
     ]
    }
   ],
   "source": [
    "example = df['review'][5]\n",
    "print(example)"
   ]
  },
  {
   "cell_type": "code",
   "execution_count": 7,
   "id": "42961310",
   "metadata": {},
   "outputs": [
    {
     "data": {
      "text/plain": [
       "['Probably',\n",
       " 'my',\n",
       " 'all-time',\n",
       " 'favorite',\n",
       " 'movie',\n",
       " ',',\n",
       " 'a',\n",
       " 'story',\n",
       " 'of',\n",
       " 'selflessness']"
      ]
     },
     "execution_count": 7,
     "metadata": {},
     "output_type": "execute_result"
    }
   ],
   "source": [
    "tokens = nltk.word_tokenize(example)\n",
    "tokens[:10]"
   ]
  },
  {
   "cell_type": "code",
   "execution_count": 8,
   "id": "2c2e4ec4",
   "metadata": {},
   "outputs": [
    {
     "data": {
      "text/plain": [
       "[('Probably', 'RB'),\n",
       " ('my', 'PRP$'),\n",
       " ('all-time', 'JJ'),\n",
       " ('favorite', 'JJ'),\n",
       " ('movie', 'NN'),\n",
       " (',', ','),\n",
       " ('a', 'DT'),\n",
       " ('story', 'NN'),\n",
       " ('of', 'IN'),\n",
       " ('selflessness', 'NN')]"
      ]
     },
     "execution_count": 8,
     "metadata": {},
     "output_type": "execute_result"
    }
   ],
   "source": [
    "tagged = nltk.pos_tag(tokens)\n",
    "tagged[:10]"
   ]
  },
  {
   "cell_type": "code",
   "execution_count": 9,
   "id": "ade412a3",
   "metadata": {},
   "outputs": [],
   "source": [
    "from nltk.sentiment import SentimentIntensityAnalyzer\n",
    "from tqdm.notebook import tqdm\n",
    "\n",
    "sia = SentimentIntensityAnalyzer()"
   ]
  },
  {
   "cell_type": "code",
   "execution_count": 10,
   "id": "f7a7e38a",
   "metadata": {},
   "outputs": [
    {
     "data": {
      "text/plain": [
       "{'neg': 0.0, 'neu': 0.318, 'pos': 0.682, 'compound': 0.6468}"
      ]
     },
     "execution_count": 10,
     "metadata": {},
     "output_type": "execute_result"
    }
   ],
   "source": [
    "sia.polarity_scores('I am so happy!')"
   ]
  },
  {
   "cell_type": "code",
   "execution_count": 11,
   "id": "bdea7706",
   "metadata": {},
   "outputs": [
    {
     "data": {
      "text/plain": [
       "{'neg': 0.451, 'neu': 0.549, 'pos': 0.0, 'compound': -0.6249}"
      ]
     },
     "execution_count": 11,
     "metadata": {},
     "output_type": "execute_result"
    }
   ],
   "source": [
    "sia.polarity_scores('This is the worst thing ever.')"
   ]
  },
  {
   "cell_type": "code",
   "execution_count": 12,
   "id": "bf7227ad",
   "metadata": {},
   "outputs": [
    {
     "data": {
      "text/plain": [
       "{'neg': 0.017, 'neu': 0.758, 'pos': 0.225, 'compound': 0.9828}"
      ]
     },
     "execution_count": 12,
     "metadata": {},
     "output_type": "execute_result"
    }
   ],
   "source": [
    "sia.polarity_scores(example)"
   ]
  },
  {
   "cell_type": "code",
   "execution_count": 13,
   "id": "b5954c07",
   "metadata": {},
   "outputs": [
    {
     "name": "stderr",
     "output_type": "stream",
     "text": [
      "[nltk_data] Downloading package stopwords to\n",
      "[nltk_data]     C:\\Users\\Ritika\\AppData\\Roaming\\nltk_data...\n",
      "[nltk_data]   Package stopwords is already up-to-date!\n"
     ]
    },
    {
     "data": {
      "text/plain": [
       "True"
      ]
     },
     "execution_count": 13,
     "metadata": {},
     "output_type": "execute_result"
    }
   ],
   "source": [
    "nltk.download('stopwords')"
   ]
  },
  {
   "cell_type": "code",
   "execution_count": null,
   "id": "a235980d",
   "metadata": {},
   "outputs": [],
   "source": []
  },
  {
   "cell_type": "code",
   "execution_count": 14,
   "id": "274dff63",
   "metadata": {},
   "outputs": [
    {
     "name": "stdout",
     "output_type": "stream",
     "text": [
      "Probably my all-time favorite movie, a story of selflessness, sacrifice and dedication to a noble cause, but it's not preachy or boring. It just never gets old, despite my having seen it some 15 or more times in the last 25 years. Paul Lukas' performance brings tears to my eyes, and Bette Davis, in one of her very few truly sympathetic roles, is a delight. The kids are, as grandma says, more like \"dressed-up midgets\" than children, but that only makes them more fun to watch. And the mother's slow awakening to what's happening in the world and under her own roof is believable and startling. If I had a dozen thumbs, they'd all be \"up\" for this movie.\n"
     ]
    }
   ],
   "source": [
    "print(example)"
   ]
  },
  {
   "cell_type": "code",
   "execution_count": 15,
   "id": "393086af",
   "metadata": {},
   "outputs": [],
   "source": [
    "from nltk.tokenize import sent_tokenize, word_tokenize\n",
    "sents=sent_tokenize(example)"
   ]
  },
  {
   "cell_type": "code",
   "execution_count": 16,
   "id": "14b905a1",
   "metadata": {},
   "outputs": [
    {
     "data": {
      "text/plain": [
       "[\"Probably my all-time favorite movie, a story of selflessness, sacrifice and dedication to a noble cause, but it's not preachy or boring.\",\n",
       " 'It just never gets old, despite my having seen it some 15 or more times in the last 25 years.',\n",
       " \"Paul Lukas' performance brings tears to my eyes, and Bette Davis, in one of her very few truly sympathetic roles, is a delight.\",\n",
       " 'The kids are, as grandma says, more like \"dressed-up midgets\" than children, but that only makes them more fun to watch.',\n",
       " \"And the mother's slow awakening to what's happening in the world and under her own roof is believable and startling.\",\n",
       " 'If I had a dozen thumbs, they\\'d all be \"up\" for this movie.']"
      ]
     },
     "execution_count": 16,
     "metadata": {},
     "output_type": "execute_result"
    }
   ],
   "source": [
    "sents"
   ]
  },
  {
   "cell_type": "code",
   "execution_count": 17,
   "id": "5059de1b",
   "metadata": {},
   "outputs": [
    {
     "data": {
      "text/plain": [
       "['Probably',\n",
       " 'my',\n",
       " 'all-time',\n",
       " 'favorite',\n",
       " 'movie',\n",
       " ',',\n",
       " 'a',\n",
       " 'story',\n",
       " 'of',\n",
       " 'selflessness',\n",
       " ',',\n",
       " 'sacrifice',\n",
       " 'and',\n",
       " 'dedication',\n",
       " 'to',\n",
       " 'a',\n",
       " 'noble',\n",
       " 'cause',\n",
       " ',',\n",
       " 'but',\n",
       " 'it',\n",
       " \"'s\",\n",
       " 'not',\n",
       " 'preachy',\n",
       " 'or',\n",
       " 'boring',\n",
       " '.',\n",
       " 'It',\n",
       " 'just',\n",
       " 'never',\n",
       " 'gets',\n",
       " 'old',\n",
       " ',',\n",
       " 'despite',\n",
       " 'my',\n",
       " 'having',\n",
       " 'seen',\n",
       " 'it',\n",
       " 'some',\n",
       " '15',\n",
       " 'or',\n",
       " 'more',\n",
       " 'times',\n",
       " 'in',\n",
       " 'the',\n",
       " 'last',\n",
       " '25',\n",
       " 'years',\n",
       " '.',\n",
       " 'Paul',\n",
       " 'Lukas',\n",
       " \"'\",\n",
       " 'performance',\n",
       " 'brings',\n",
       " 'tears',\n",
       " 'to',\n",
       " 'my',\n",
       " 'eyes',\n",
       " ',',\n",
       " 'and',\n",
       " 'Bette',\n",
       " 'Davis',\n",
       " ',',\n",
       " 'in',\n",
       " 'one',\n",
       " 'of',\n",
       " 'her',\n",
       " 'very',\n",
       " 'few',\n",
       " 'truly',\n",
       " 'sympathetic',\n",
       " 'roles',\n",
       " ',',\n",
       " 'is',\n",
       " 'a',\n",
       " 'delight',\n",
       " '.',\n",
       " 'The',\n",
       " 'kids',\n",
       " 'are',\n",
       " ',',\n",
       " 'as',\n",
       " 'grandma',\n",
       " 'says',\n",
       " ',',\n",
       " 'more',\n",
       " 'like',\n",
       " '``',\n",
       " 'dressed-up',\n",
       " 'midgets',\n",
       " \"''\",\n",
       " 'than',\n",
       " 'children',\n",
       " ',',\n",
       " 'but',\n",
       " 'that',\n",
       " 'only',\n",
       " 'makes',\n",
       " 'them',\n",
       " 'more',\n",
       " 'fun',\n",
       " 'to',\n",
       " 'watch',\n",
       " '.',\n",
       " 'And',\n",
       " 'the',\n",
       " 'mother',\n",
       " \"'s\",\n",
       " 'slow',\n",
       " 'awakening',\n",
       " 'to',\n",
       " 'what',\n",
       " \"'s\",\n",
       " 'happening',\n",
       " 'in',\n",
       " 'the',\n",
       " 'world',\n",
       " 'and',\n",
       " 'under',\n",
       " 'her',\n",
       " 'own',\n",
       " 'roof',\n",
       " 'is',\n",
       " 'believable',\n",
       " 'and',\n",
       " 'startling',\n",
       " '.',\n",
       " 'If',\n",
       " 'I',\n",
       " 'had',\n",
       " 'a',\n",
       " 'dozen',\n",
       " 'thumbs',\n",
       " ',',\n",
       " 'they',\n",
       " \"'d\",\n",
       " 'all',\n",
       " 'be',\n",
       " '``',\n",
       " 'up',\n",
       " \"''\",\n",
       " 'for',\n",
       " 'this',\n",
       " 'movie',\n",
       " '.']"
      ]
     },
     "execution_count": 17,
     "metadata": {},
     "output_type": "execute_result"
    }
   ],
   "source": [
    "word=word_tokenize(example)\n",
    "word"
   ]
  },
  {
   "cell_type": "code",
   "execution_count": 18,
   "id": "f08719cf",
   "metadata": {},
   "outputs": [],
   "source": [
    "from nltk.corpus import stopwords\n",
    "stopwords = set(stopwords.words('english'))"
   ]
  },
  {
   "cell_type": "code",
   "execution_count": 19,
   "id": "49217c36",
   "metadata": {},
   "outputs": [
    {
     "name": "stdout",
     "output_type": "stream",
     "text": [
      "Probably\n",
      "all-time\n",
      "favorite\n",
      "movie\n",
      ",\n",
      "story\n",
      "selflessness\n",
      ",\n",
      "sacrifice\n",
      "dedication\n",
      "noble\n",
      "cause\n",
      ",\n",
      "'s\n",
      "preachy\n",
      "boring\n",
      ".\n",
      "It\n",
      "never\n",
      "gets\n",
      "old\n",
      ",\n",
      "despite\n",
      "seen\n",
      "15\n",
      "times\n",
      "last\n",
      "25\n",
      "years\n",
      ".\n",
      "Paul\n",
      "Lukas\n",
      "'\n",
      "performance\n",
      "brings\n",
      "tears\n",
      "eyes\n",
      ",\n",
      "Bette\n",
      "Davis\n",
      ",\n",
      "one\n",
      "truly\n",
      "sympathetic\n",
      "roles\n",
      ",\n",
      "delight\n",
      ".\n",
      "The\n",
      "kids\n",
      ",\n",
      "grandma\n",
      "says\n",
      ",\n",
      "like\n",
      "``\n",
      "dressed-up\n",
      "midgets\n",
      "''\n",
      "children\n",
      ",\n",
      "makes\n",
      "fun\n",
      "watch\n",
      ".\n",
      "And\n",
      "mother\n",
      "'s\n",
      "slow\n",
      "awakening\n",
      "'s\n",
      "happening\n",
      "world\n",
      "roof\n",
      "believable\n",
      "startling\n",
      ".\n",
      "If\n",
      "I\n",
      "dozen\n",
      "thumbs\n",
      ",\n",
      "'d\n",
      "``\n",
      "''\n",
      "movie\n",
      ".\n"
     ]
    }
   ],
   "source": [
    "words=[]\n",
    "for w in word:\n",
    "    if w not in stopwords:\n",
    "        print(w)\n",
    "        words.append(w)"
   ]
  },
  {
   "cell_type": "code",
   "execution_count": 20,
   "id": "f23c3c83",
   "metadata": {},
   "outputs": [
    {
     "data": {
      "text/plain": [
       "['Probably',\n",
       " 'all-time',\n",
       " 'favorite',\n",
       " 'movie',\n",
       " ',',\n",
       " 'story',\n",
       " 'selflessness',\n",
       " ',',\n",
       " 'sacrifice',\n",
       " 'dedication',\n",
       " 'noble',\n",
       " 'cause',\n",
       " ',',\n",
       " \"'s\",\n",
       " 'preachy',\n",
       " 'boring',\n",
       " '.',\n",
       " 'It',\n",
       " 'never',\n",
       " 'gets',\n",
       " 'old',\n",
       " ',',\n",
       " 'despite',\n",
       " 'seen',\n",
       " '15',\n",
       " 'times',\n",
       " 'last',\n",
       " '25',\n",
       " 'years',\n",
       " '.',\n",
       " 'Paul',\n",
       " 'Lukas',\n",
       " \"'\",\n",
       " 'performance',\n",
       " 'brings',\n",
       " 'tears',\n",
       " 'eyes',\n",
       " ',',\n",
       " 'Bette',\n",
       " 'Davis',\n",
       " ',',\n",
       " 'one',\n",
       " 'truly',\n",
       " 'sympathetic',\n",
       " 'roles',\n",
       " ',',\n",
       " 'delight',\n",
       " '.',\n",
       " 'The',\n",
       " 'kids',\n",
       " ',',\n",
       " 'grandma',\n",
       " 'says',\n",
       " ',',\n",
       " 'like',\n",
       " '``',\n",
       " 'dressed-up',\n",
       " 'midgets',\n",
       " \"''\",\n",
       " 'children',\n",
       " ',',\n",
       " 'makes',\n",
       " 'fun',\n",
       " 'watch',\n",
       " '.',\n",
       " 'And',\n",
       " 'mother',\n",
       " \"'s\",\n",
       " 'slow',\n",
       " 'awakening',\n",
       " \"'s\",\n",
       " 'happening',\n",
       " 'world',\n",
       " 'roof',\n",
       " 'believable',\n",
       " 'startling',\n",
       " '.',\n",
       " 'If',\n",
       " 'I',\n",
       " 'dozen',\n",
       " 'thumbs',\n",
       " ',',\n",
       " \"'d\",\n",
       " '``',\n",
       " \"''\",\n",
       " 'movie',\n",
       " '.']"
      ]
     },
     "execution_count": 20,
     "metadata": {},
     "output_type": "execute_result"
    }
   ],
   "source": [
    "words"
   ]
  },
  {
   "cell_type": "code",
   "execution_count": 21,
   "id": "0214f073",
   "metadata": {},
   "outputs": [
    {
     "name": "stdout",
     "output_type": "stream",
     "text": [
      "Probably -->probabl\n",
      "all-time -->all-tim\n",
      "favorite -->favorit\n",
      "movie -->movi\n",
      ", -->,\n",
      "story -->stori\n",
      "selflessness -->selfless\n",
      ", -->,\n",
      "sacrifice -->sacrific\n",
      "dedication -->dedic\n",
      "noble -->nobl\n",
      "cause -->caus\n",
      ", -->,\n",
      "'s -->'s\n",
      "preachy -->preachi\n",
      "boring -->bore\n",
      ". -->.\n",
      "It -->it\n",
      "never -->never\n",
      "gets -->get\n",
      "old -->old\n",
      ", -->,\n",
      "despite -->despit\n",
      "seen -->seen\n",
      "15 -->15\n",
      "times -->time\n",
      "last -->last\n",
      "25 -->25\n",
      "years -->year\n",
      ". -->.\n",
      "Paul -->paul\n",
      "Lukas -->luka\n",
      "' -->'\n",
      "performance -->perform\n",
      "brings -->bring\n",
      "tears -->tear\n",
      "eyes -->eye\n",
      ", -->,\n",
      "Bette -->bett\n",
      "Davis -->davi\n",
      ", -->,\n",
      "one -->one\n",
      "truly -->truli\n",
      "sympathetic -->sympathet\n",
      "roles -->role\n",
      ", -->,\n",
      "delight -->delight\n",
      ". -->.\n",
      "The -->the\n",
      "kids -->kid\n",
      ", -->,\n",
      "grandma -->grandma\n",
      "says -->say\n",
      ", -->,\n",
      "like -->like\n",
      "`` -->``\n",
      "dressed-up -->dressed-up\n",
      "midgets -->midget\n",
      "'' -->''\n",
      "children -->children\n",
      ", -->,\n",
      "makes -->make\n",
      "fun -->fun\n",
      "watch -->watch\n",
      ". -->.\n",
      "And -->and\n",
      "mother -->mother\n",
      "'s -->'s\n",
      "slow -->slow\n",
      "awakening -->awaken\n",
      "'s -->'s\n",
      "happening -->happen\n",
      "world -->world\n",
      "roof -->roof\n",
      "believable -->believ\n",
      "startling -->startl\n",
      ". -->.\n",
      "If -->if\n",
      "I -->i\n",
      "dozen -->dozen\n",
      "thumbs -->thumb\n",
      ", -->,\n",
      "'d -->'d\n",
      "`` -->``\n",
      "'' -->''\n",
      "movie -->movi\n",
      ". -->.\n"
     ]
    }
   ],
   "source": [
    "from nltk.stem.porter import *\n",
    "p_stemmer = PorterStemmer()\n",
    "for word in words:\n",
    "    print(word+' -->' +p_stemmer.stem(word))"
   ]
  },
  {
   "cell_type": "code",
   "execution_count": 22,
   "id": "f036aa47",
   "metadata": {},
   "outputs": [
    {
     "name": "stdout",
     "output_type": "stream",
     "text": [
      "probabl\n",
      "all-tim\n",
      "favorit\n",
      "movi\n",
      ",\n",
      "stori\n",
      "selfless\n",
      ",\n",
      "sacrific\n",
      "dedic\n",
      "nobl\n",
      "caus\n",
      ",\n",
      "'s\n",
      "preachi\n",
      "bore\n",
      ".\n",
      "it\n",
      "never\n",
      "get\n",
      "old\n",
      ",\n",
      "despit\n",
      "seen\n",
      "15\n",
      "time\n",
      "last\n",
      "25\n",
      "year\n",
      ".\n",
      "paul\n",
      "luka\n",
      "'\n",
      "perform\n",
      "bring\n",
      "tear\n",
      "eye\n",
      ",\n",
      "bett\n",
      "davi\n",
      ",\n",
      "one\n",
      "truli\n",
      "sympathet\n",
      "role\n",
      ",\n",
      "delight\n",
      ".\n",
      "the\n",
      "kid\n",
      ",\n",
      "grandma\n",
      "say\n",
      ",\n",
      "like\n",
      "``\n",
      "dressed-up\n",
      "midget\n",
      "''\n",
      "children\n",
      ",\n",
      "make\n",
      "fun\n",
      "watch\n",
      ".\n",
      "and\n",
      "mother\n",
      "'s\n",
      "slow\n",
      "awaken\n",
      "'s\n",
      "happen\n",
      "world\n",
      "roof\n",
      "believ\n",
      "startl\n",
      ".\n",
      "if\n",
      "i\n",
      "dozen\n",
      "thumb\n",
      ",\n",
      "'d\n",
      "``\n",
      "''\n",
      "movi\n",
      ".\n"
     ]
    }
   ],
   "source": [
    "import nltk\n",
    "from nltk.stem.porter import *\n",
    "p_stemmer = PorterStemmer()\n",
    "for word in words:\n",
    "    print(p_stemmer.stem(word))"
   ]
  },
  {
   "cell_type": "code",
   "execution_count": 23,
   "id": "42745673",
   "metadata": {},
   "outputs": [
    {
     "name": "stdout",
     "output_type": "stream",
     "text": [
      "Probably --> Probably\n",
      "all-time --> all-time\n",
      "favorite --> favorite\n",
      "movie --> movie\n",
      ", --> ,\n",
      "story --> story\n",
      "selflessness --> selflessness\n",
      ", --> ,\n",
      "sacrifice --> sacrifice\n",
      "dedication --> dedication\n",
      "noble --> noble\n",
      "cause --> cause\n",
      ", --> ,\n",
      "'s --> 's\n",
      "preachy --> preachy\n",
      "boring --> boring\n",
      ". --> .\n",
      "It --> It\n",
      "never --> never\n",
      "gets --> get\n",
      "old --> old\n",
      ", --> ,\n",
      "despite --> despite\n",
      "seen --> seen\n",
      "15 --> 15\n",
      "times --> time\n",
      "last --> last\n",
      "25 --> 25\n",
      "years --> year\n",
      ". --> .\n",
      "Paul --> Paul\n",
      "Lukas --> Lukas\n",
      "' --> '\n",
      "performance --> performance\n",
      "brings --> brings\n",
      "tears --> tear\n",
      "eyes --> eye\n",
      ", --> ,\n",
      "Bette --> Bette\n",
      "Davis --> Davis\n",
      ", --> ,\n",
      "one --> one\n",
      "truly --> truly\n",
      "sympathetic --> sympathetic\n",
      "roles --> role\n",
      ", --> ,\n",
      "delight --> delight\n",
      ". --> .\n",
      "The --> The\n",
      "kids --> kid\n",
      ", --> ,\n",
      "grandma --> grandma\n",
      "says --> say\n",
      ", --> ,\n",
      "like --> like\n",
      "`` --> ``\n",
      "dressed-up --> dressed-up\n",
      "midgets --> midget\n",
      "'' --> ''\n",
      "children --> child\n",
      ", --> ,\n",
      "makes --> make\n",
      "fun --> fun\n",
      "watch --> watch\n",
      ". --> .\n",
      "And --> And\n",
      "mother --> mother\n",
      "'s --> 's\n",
      "slow --> slow\n",
      "awakening --> awakening\n",
      "'s --> 's\n",
      "happening --> happening\n",
      "world --> world\n",
      "roof --> roof\n",
      "believable --> believable\n",
      "startling --> startling\n",
      ". --> .\n",
      "If --> If\n",
      "I --> I\n",
      "dozen --> dozen\n",
      "thumbs --> thumb\n",
      ", --> ,\n",
      "'d --> 'd\n",
      "`` --> ``\n",
      "'' --> ''\n",
      "movie --> movie\n",
      ". --> .\n"
     ]
    }
   ],
   "source": [
    "import nltk\n",
    "from nltk.stem import WordNetLemmatizer\n",
    "lemmatizer = WordNetLemmatizer()\n",
    "for word in words:\n",
    "    print(word+' --> '+ lemmatizer.lemmatize(word))"
   ]
  },
  {
   "cell_type": "code",
   "execution_count": 24,
   "id": "b5b8ac91",
   "metadata": {},
   "outputs": [
    {
     "name": "stderr",
     "output_type": "stream",
     "text": [
      "[nltk_data] Downloading package wordnet to\n",
      "[nltk_data]     C:\\Users\\Ritika\\AppData\\Roaming\\nltk_data...\n",
      "[nltk_data]   Package wordnet is already up-to-date!\n"
     ]
    },
    {
     "data": {
      "text/plain": [
       "True"
      ]
     },
     "execution_count": 24,
     "metadata": {},
     "output_type": "execute_result"
    }
   ],
   "source": [
    "import nltk\n",
    "nltk.download('wordnet')"
   ]
  },
  {
   "cell_type": "code",
   "execution_count": 25,
   "id": "01384888",
   "metadata": {},
   "outputs": [
    {
     "name": "stdout",
     "output_type": "stream",
     "text": [
      "Probably\n",
      "all-time\n",
      "favorite\n",
      "movie\n",
      ",\n",
      "story\n",
      "selflessness\n",
      ",\n",
      "sacrifice\n",
      "dedication\n",
      "noble\n",
      "cause\n",
      ",\n",
      "'s\n",
      "preachy\n",
      "boring\n",
      ".\n",
      "It\n",
      "never\n",
      "get\n",
      "old\n",
      ",\n",
      "despite\n",
      "seen\n",
      "15\n",
      "time\n",
      "last\n",
      "25\n",
      "year\n",
      ".\n",
      "Paul\n",
      "Lukas\n",
      "'\n",
      "performance\n",
      "brings\n",
      "tear\n",
      "eye\n",
      ",\n",
      "Bette\n",
      "Davis\n",
      ",\n",
      "one\n",
      "truly\n",
      "sympathetic\n",
      "role\n",
      ",\n",
      "delight\n",
      ".\n",
      "The\n",
      "kid\n",
      ",\n",
      "grandma\n",
      "say\n",
      ",\n",
      "like\n",
      "``\n",
      "dressed-up\n",
      "midget\n",
      "''\n",
      "child\n",
      ",\n",
      "make\n",
      "fun\n",
      "watch\n",
      ".\n",
      "And\n",
      "mother\n",
      "'s\n",
      "slow\n",
      "awakening\n",
      "'s\n",
      "happening\n",
      "world\n",
      "roof\n",
      "believable\n",
      "startling\n",
      ".\n",
      "If\n",
      "I\n",
      "dozen\n",
      "thumb\n",
      ",\n",
      "'d\n",
      "``\n",
      "''\n",
      "movie\n",
      ".\n"
     ]
    }
   ],
   "source": [
    "words_l=[]\n",
    "from nltk.stem import WordNetLemmatizer\n",
    "lemmatizer = WordNetLemmatizer()\n",
    "for word in words:\n",
    "    print(lemmatizer.lemmatize(word))\n",
    "    words_l.append(word)"
   ]
  },
  {
   "cell_type": "code",
   "execution_count": 26,
   "id": "d68d8f82",
   "metadata": {},
   "outputs": [
    {
     "data": {
      "text/plain": [
       "['Probably',\n",
       " 'all-time',\n",
       " 'favorite',\n",
       " 'movie',\n",
       " ',',\n",
       " 'story',\n",
       " 'selflessness',\n",
       " ',',\n",
       " 'sacrifice',\n",
       " 'dedication',\n",
       " 'noble',\n",
       " 'cause',\n",
       " ',',\n",
       " \"'s\",\n",
       " 'preachy',\n",
       " 'boring',\n",
       " '.',\n",
       " 'It',\n",
       " 'never',\n",
       " 'gets',\n",
       " 'old',\n",
       " ',',\n",
       " 'despite',\n",
       " 'seen',\n",
       " '15',\n",
       " 'times',\n",
       " 'last',\n",
       " '25',\n",
       " 'years',\n",
       " '.',\n",
       " 'Paul',\n",
       " 'Lukas',\n",
       " \"'\",\n",
       " 'performance',\n",
       " 'brings',\n",
       " 'tears',\n",
       " 'eyes',\n",
       " ',',\n",
       " 'Bette',\n",
       " 'Davis',\n",
       " ',',\n",
       " 'one',\n",
       " 'truly',\n",
       " 'sympathetic',\n",
       " 'roles',\n",
       " ',',\n",
       " 'delight',\n",
       " '.',\n",
       " 'The',\n",
       " 'kids',\n",
       " ',',\n",
       " 'grandma',\n",
       " 'says',\n",
       " ',',\n",
       " 'like',\n",
       " '``',\n",
       " 'dressed-up',\n",
       " 'midgets',\n",
       " \"''\",\n",
       " 'children',\n",
       " ',',\n",
       " 'makes',\n",
       " 'fun',\n",
       " 'watch',\n",
       " '.',\n",
       " 'And',\n",
       " 'mother',\n",
       " \"'s\",\n",
       " 'slow',\n",
       " 'awakening',\n",
       " \"'s\",\n",
       " 'happening',\n",
       " 'world',\n",
       " 'roof',\n",
       " 'believable',\n",
       " 'startling',\n",
       " '.',\n",
       " 'If',\n",
       " 'I',\n",
       " 'dozen',\n",
       " 'thumbs',\n",
       " ',',\n",
       " \"'d\",\n",
       " '``',\n",
       " \"''\",\n",
       " 'movie',\n",
       " '.']"
      ]
     },
     "execution_count": 26,
     "metadata": {},
     "output_type": "execute_result"
    }
   ],
   "source": [
    "words_l"
   ]
  },
  {
   "cell_type": "code",
   "execution_count": 27,
   "id": "f3b40925",
   "metadata": {},
   "outputs": [
    {
     "name": "stdout",
     "output_type": "stream",
     "text": [
      " Probablyall-timefavoritemoviestoryselflessnesssacrificededicationnoblecause'spreachyboringItnevergetsolddespiteseen15timeslast25yearsPaulLukasperformancebringstearseyesBetteDavisonetrulysympatheticrolesdelightThekidsgrandmasayslike``dressed-upmidgets''childrenmakesfunwatchAndmother'sslowawakening'shappeningworldroofbelievablestartlingIfIdozenthumbs'd``''movie\n"
     ]
    }
   ],
   "source": [
    "punctuations = '''!()-[]{};:'\"\\,<>./?@#$%^&*_~'''\n",
    "\n",
    "no_punct = \" \"\n",
    "for char in words_l:\n",
    "    if char not in punctuations:\n",
    "        no_punct = no_punct + char\n",
    "        \n",
    "print(no_punct)"
   ]
  },
  {
   "cell_type": "code",
   "execution_count": 28,
   "id": "b5626078",
   "metadata": {},
   "outputs": [
    {
     "data": {
      "text/html": [
       "<div>\n",
       "<style scoped>\n",
       "    .dataframe tbody tr th:only-of-type {\n",
       "        vertical-align: middle;\n",
       "    }\n",
       "\n",
       "    .dataframe tbody tr th {\n",
       "        vertical-align: top;\n",
       "    }\n",
       "\n",
       "    .dataframe thead th {\n",
       "        text-align: right;\n",
       "    }\n",
       "</style>\n",
       "<table border=\"1\" class=\"dataframe\">\n",
       "  <thead>\n",
       "    <tr style=\"text-align: right;\">\n",
       "      <th></th>\n",
       "      <th>review</th>\n",
       "      <th>sentiment</th>\n",
       "    </tr>\n",
       "  </thead>\n",
       "  <tbody>\n",
       "    <tr>\n",
       "      <th>0</th>\n",
       "      <td>One of the other reviewers has mentioned that ...</td>\n",
       "      <td>positive</td>\n",
       "    </tr>\n",
       "    <tr>\n",
       "      <th>1</th>\n",
       "      <td>A wonderful little production. &lt;br /&gt;&lt;br /&gt;The...</td>\n",
       "      <td>positive</td>\n",
       "    </tr>\n",
       "    <tr>\n",
       "      <th>2</th>\n",
       "      <td>I thought this was a wonderful way to spend ti...</td>\n",
       "      <td>positive</td>\n",
       "    </tr>\n",
       "    <tr>\n",
       "      <th>3</th>\n",
       "      <td>Basically there's a family where a little boy ...</td>\n",
       "      <td>negative</td>\n",
       "    </tr>\n",
       "    <tr>\n",
       "      <th>4</th>\n",
       "      <td>Petter Mattei's \"Love in the Time of Money\" is...</td>\n",
       "      <td>positive</td>\n",
       "    </tr>\n",
       "  </tbody>\n",
       "</table>\n",
       "</div>"
      ],
      "text/plain": [
       "                                              review sentiment\n",
       "0  One of the other reviewers has mentioned that ...  positive\n",
       "1  A wonderful little production. <br /><br />The...  positive\n",
       "2  I thought this was a wonderful way to spend ti...  positive\n",
       "3  Basically there's a family where a little boy ...  negative\n",
       "4  Petter Mattei's \"Love in the Time of Money\" is...  positive"
      ]
     },
     "execution_count": 28,
     "metadata": {},
     "output_type": "execute_result"
    }
   ],
   "source": [
    "df.head()"
   ]
  },
  {
   "cell_type": "code",
   "execution_count": 29,
   "id": "f10951cb",
   "metadata": {},
   "outputs": [],
   "source": [
    "y=df['sentiment']"
   ]
  },
  {
   "cell_type": "code",
   "execution_count": 30,
   "id": "9b79f0bf",
   "metadata": {},
   "outputs": [
    {
     "data": {
      "text/plain": [
       "(positive    25000\n",
       " negative    25000\n",
       " Name: sentiment, dtype: int64,\n",
       " 2)"
      ]
     },
     "execution_count": 30,
     "metadata": {},
     "output_type": "execute_result"
    }
   ],
   "source": [
    "df['sentiment'].value_counts(),df['sentiment'].nunique()"
   ]
  },
  {
   "cell_type": "code",
   "execution_count": 31,
   "id": "808f1447",
   "metadata": {},
   "outputs": [
    {
     "data": {
      "text/plain": [
       "array([1, 1, 1, ..., 0, 0, 0])"
      ]
     },
     "execution_count": 31,
     "metadata": {},
     "output_type": "execute_result"
    }
   ],
   "source": [
    "from sklearn.preprocessing import LabelEncoder\n",
    "lb=LabelEncoder()\n",
    "y=lb.fit_transform(y)\n",
    "y"
   ]
  },
  {
   "cell_type": "code",
   "execution_count": 32,
   "id": "9c899a2d",
   "metadata": {},
   "outputs": [
    {
     "data": {
      "text/plain": [
       "(50000, 2)"
      ]
     },
     "execution_count": 32,
     "metadata": {},
     "output_type": "execute_result"
    }
   ],
   "source": [
    "df.shape"
   ]
  },
  {
   "cell_type": "code",
   "execution_count": 33,
   "id": "555f0ed4",
   "metadata": {},
   "outputs": [
    {
     "name": "stdout",
     "output_type": "stream",
     "text": [
      "<class 'pandas.core.frame.DataFrame'>\n",
      "RangeIndex: 50000 entries, 0 to 49999\n",
      "Data columns (total 2 columns):\n",
      " #   Column     Non-Null Count  Dtype \n",
      "---  ------     --------------  ----- \n",
      " 0   review     50000 non-null  object\n",
      " 1   sentiment  50000 non-null  object\n",
      "dtypes: object(2)\n",
      "memory usage: 781.4+ KB\n"
     ]
    }
   ],
   "source": [
    "df.info()"
   ]
  },
  {
   "cell_type": "code",
   "execution_count": 34,
   "id": "5b44582d",
   "metadata": {},
   "outputs": [],
   "source": [
    "text=df['review']"
   ]
  },
  {
   "cell_type": "code",
   "execution_count": 35,
   "id": "9a893992",
   "metadata": {},
   "outputs": [],
   "source": [
    "text=text.str.lower()"
   ]
  },
  {
   "cell_type": "code",
   "execution_count": 36,
   "id": "4f53b3a7",
   "metadata": {},
   "outputs": [],
   "source": [
    "import re\n",
    "def remove_html_tags(text):\n",
    "    pattern =re.compile('<.?>')\n",
    "    return pattern.sub(r'',text)"
   ]
  },
  {
   "cell_type": "code",
   "execution_count": 37,
   "id": "60398492",
   "metadata": {},
   "outputs": [
    {
     "data": {
      "text/plain": [
       "0        one of the other reviewers has mentioned that ...\n",
       "1        a wonderful little production. <br /><br />the...\n",
       "2        i thought this was a wonderful way to spend ti...\n",
       "3        basically there's a family where a little boy ...\n",
       "4        petter mattei's \"love in the time of money\" is...\n",
       "                               ...                        \n",
       "49995    i thought this movie did a down right good job...\n",
       "49996    bad plot, bad dialogue, bad acting, idiotic di...\n",
       "49997    i am a catholic taught in parochial elementary...\n",
       "49998    i'm going to have to disagree with the previou...\n",
       "49999    no one expects the star trek movies to be high...\n",
       "Name: review, Length: 50000, dtype: object"
      ]
     },
     "execution_count": 37,
     "metadata": {},
     "output_type": "execute_result"
    }
   ],
   "source": [
    "text=text.apply(remove_html_tags)\n",
    "text"
   ]
  },
  {
   "cell_type": "code",
   "execution_count": 38,
   "id": "34945627",
   "metadata": {},
   "outputs": [
    {
     "data": {
      "text/plain": [
       "b'the main character, pharaon, has suffered a loss of his wife and child in the pre-film past. he deals with with by just shutting down emotionally. too long a movie, too much time spent on pharaon\\'s inexpressive face, too much \"road time\" (one of the banes of tv: filling time with moving cars, trains, etc.) long scenes of him doing trivial - sometimes totally inexplicable, nonsensically trivial - actions with neither reason or emotion. his best friends joseph and domino are not much more, their relationship based on sex (this film perhaps gives new meaning to the phrase \"gratuitous sex\"); domino and pharaon\\'s mother are the two characters who display some emotion, but not much. it is hard to tell with all the characters in this movie: is it indifferent acting, indifferent writing, or simply indifferent characters portrayed by good writing and good acting. characters in this film talk very little to anyone; it\\'s little wonder their emotionally isolated, which is all the more bizarre because it\\'s clear they live in a neighborhood where the people are friendly and know each other.'"
      ]
     },
     "execution_count": 38,
     "metadata": {},
     "output_type": "execute_result"
    }
   ],
   "source": [
    "text[7606].encode('utf-8')"
   ]
  },
  {
   "cell_type": "code",
   "execution_count": 39,
   "id": "2c8b2c16",
   "metadata": {},
   "outputs": [
    {
     "data": {
      "text/plain": [
       "pandas.core.series.Series"
      ]
     },
     "execution_count": 39,
     "metadata": {},
     "output_type": "execute_result"
    }
   ],
   "source": [
    "type(text)"
   ]
  },
  {
   "cell_type": "code",
   "execution_count": 40,
   "id": "3e4f4ef9",
   "metadata": {},
   "outputs": [],
   "source": [
    "test=[[text]]"
   ]
  },
  {
   "cell_type": "code",
   "execution_count": 41,
   "id": "57c80964",
   "metadata": {},
   "outputs": [
    {
     "data": {
      "text/plain": [
       "0        one of the other reviewers has mentioned that ...\n",
       "1        a wonderful little production. <br /><br />the...\n",
       "2        i thought this was a wonderful way to spend ti...\n",
       "3        basically there's a family where a little boy ...\n",
       "4        petter mattei's \"love in the time of money\" is...\n",
       "                               ...                        \n",
       "49995    i thought this movie did a down right good job...\n",
       "49996    bad plot, bad dialogue, bad acting, idiotic di...\n",
       "49997    i am a catholic taught in parochial elementary...\n",
       "49998    i'm going to have to disagree with the previou...\n",
       "49999    no one expects the star trek movies to be high...\n",
       "Name: review, Length: 50000, dtype: object"
      ]
     },
     "execution_count": 41,
     "metadata": {},
     "output_type": "execute_result"
    }
   ],
   "source": [
    "text"
   ]
  },
  {
   "cell_type": "code",
   "execution_count": 42,
   "id": "ee805d9d",
   "metadata": {},
   "outputs": [
    {
     "data": {
      "text/html": [
       "<div>\n",
       "<style scoped>\n",
       "    .dataframe tbody tr th:only-of-type {\n",
       "        vertical-align: middle;\n",
       "    }\n",
       "\n",
       "    .dataframe tbody tr th {\n",
       "        vertical-align: top;\n",
       "    }\n",
       "\n",
       "    .dataframe thead th {\n",
       "        text-align: right;\n",
       "    }\n",
       "</style>\n",
       "<table border=\"1\" class=\"dataframe\">\n",
       "  <thead>\n",
       "    <tr style=\"text-align: right;\">\n",
       "      <th></th>\n",
       "      <th>review</th>\n",
       "    </tr>\n",
       "  </thead>\n",
       "  <tbody>\n",
       "    <tr>\n",
       "      <th>0</th>\n",
       "      <td>one of the other reviewers has mentioned that ...</td>\n",
       "    </tr>\n",
       "    <tr>\n",
       "      <th>1</th>\n",
       "      <td>a wonderful little production. &lt;br /&gt;&lt;br /&gt;the...</td>\n",
       "    </tr>\n",
       "    <tr>\n",
       "      <th>2</th>\n",
       "      <td>i thought this was a wonderful way to spend ti...</td>\n",
       "    </tr>\n",
       "    <tr>\n",
       "      <th>3</th>\n",
       "      <td>basically there's a family where a little boy ...</td>\n",
       "    </tr>\n",
       "    <tr>\n",
       "      <th>4</th>\n",
       "      <td>petter mattei's \"love in the time of money\" is...</td>\n",
       "    </tr>\n",
       "    <tr>\n",
       "      <th>...</th>\n",
       "      <td>...</td>\n",
       "    </tr>\n",
       "    <tr>\n",
       "      <th>49995</th>\n",
       "      <td>i thought this movie did a down right good job...</td>\n",
       "    </tr>\n",
       "    <tr>\n",
       "      <th>49996</th>\n",
       "      <td>bad plot, bad dialogue, bad acting, idiotic di...</td>\n",
       "    </tr>\n",
       "    <tr>\n",
       "      <th>49997</th>\n",
       "      <td>i am a catholic taught in parochial elementary...</td>\n",
       "    </tr>\n",
       "    <tr>\n",
       "      <th>49998</th>\n",
       "      <td>i'm going to have to disagree with the previou...</td>\n",
       "    </tr>\n",
       "    <tr>\n",
       "      <th>49999</th>\n",
       "      <td>no one expects the star trek movies to be high...</td>\n",
       "    </tr>\n",
       "  </tbody>\n",
       "</table>\n",
       "<p>50000 rows × 1 columns</p>\n",
       "</div>"
      ],
      "text/plain": [
       "                                                  review\n",
       "0      one of the other reviewers has mentioned that ...\n",
       "1      a wonderful little production. <br /><br />the...\n",
       "2      i thought this was a wonderful way to spend ti...\n",
       "3      basically there's a family where a little boy ...\n",
       "4      petter mattei's \"love in the time of money\" is...\n",
       "...                                                  ...\n",
       "49995  i thought this movie did a down right good job...\n",
       "49996  bad plot, bad dialogue, bad acting, idiotic di...\n",
       "49997  i am a catholic taught in parochial elementary...\n",
       "49998  i'm going to have to disagree with the previou...\n",
       "49999  no one expects the star trek movies to be high...\n",
       "\n",
       "[50000 rows x 1 columns]"
      ]
     },
     "execution_count": 42,
     "metadata": {},
     "output_type": "execute_result"
    }
   ],
   "source": [
    "text=pd.DataFrame(text)\n",
    "text"
   ]
  },
  {
   "cell_type": "code",
   "execution_count": 43,
   "id": "a5e5bc9f",
   "metadata": {},
   "outputs": [
    {
     "data": {
      "text/plain": [
       "pandas.core.frame.DataFrame"
      ]
     },
     "execution_count": 43,
     "metadata": {},
     "output_type": "execute_result"
    }
   ],
   "source": [
    "type(text)"
   ]
  },
  {
   "cell_type": "code",
   "execution_count": 44,
   "id": "e1a6ccbb",
   "metadata": {},
   "outputs": [
    {
     "data": {
      "text/plain": [
       "(50000, 1)"
      ]
     },
     "execution_count": 44,
     "metadata": {},
     "output_type": "execute_result"
    }
   ],
   "source": [
    "text.shape"
   ]
  },
  {
   "cell_type": "code",
   "execution_count": 45,
   "id": "5f67ac28",
   "metadata": {},
   "outputs": [
    {
     "data": {
      "text/html": [
       "<div>\n",
       "<style scoped>\n",
       "    .dataframe tbody tr th:only-of-type {\n",
       "        vertical-align: middle;\n",
       "    }\n",
       "\n",
       "    .dataframe tbody tr th {\n",
       "        vertical-align: top;\n",
       "    }\n",
       "\n",
       "    .dataframe thead th {\n",
       "        text-align: right;\n",
       "    }\n",
       "</style>\n",
       "<table border=\"1\" class=\"dataframe\">\n",
       "  <thead>\n",
       "    <tr style=\"text-align: right;\">\n",
       "      <th></th>\n",
       "      <th>review</th>\n",
       "    </tr>\n",
       "  </thead>\n",
       "  <tbody>\n",
       "    <tr>\n",
       "      <th>19606</th>\n",
       "      <td>this movie is fun to watch. if you liked \"dave...</td>\n",
       "    </tr>\n",
       "  </tbody>\n",
       "</table>\n",
       "</div>"
      ],
      "text/plain": [
       "                                                  review\n",
       "19606  this movie is fun to watch. if you liked \"dave..."
      ]
     },
     "execution_count": 45,
     "metadata": {},
     "output_type": "execute_result"
    }
   ],
   "source": [
    "text[19606:19607]"
   ]
  },
  {
   "cell_type": "code",
   "execution_count": 46,
   "id": "c27f2ac8",
   "metadata": {},
   "outputs": [
    {
     "data": {
      "text/plain": [
       "(50000, 1)"
      ]
     },
     "execution_count": 46,
     "metadata": {},
     "output_type": "execute_result"
    }
   ],
   "source": [
    "text.shape"
   ]
  },
  {
   "cell_type": "code",
   "execution_count": 47,
   "id": "e1c9218a",
   "metadata": {},
   "outputs": [],
   "source": [
    "from sklearn.feature_extraction.text import CountVectorizer"
   ]
  },
  {
   "cell_type": "code",
   "execution_count": 48,
   "id": "7027a449",
   "metadata": {},
   "outputs": [
    {
     "data": {
      "text/plain": [
       "(50000, 101895)"
      ]
     },
     "execution_count": 48,
     "metadata": {},
     "output_type": "execute_result"
    }
   ],
   "source": [
    "cv=CountVectorizer()\n",
    "x1= cv.fit_transform(text['review'])\n",
    "x1.shape"
   ]
  },
  {
   "cell_type": "code",
   "execution_count": 49,
   "id": "6ce43172",
   "metadata": {},
   "outputs": [
    {
     "data": {
      "text/plain": [
       "<50000x101895 sparse matrix of type '<class 'numpy.int64'>'\n",
       "\twith 6826529 stored elements in Compressed Sparse Row format>"
      ]
     },
     "execution_count": 49,
     "metadata": {},
     "output_type": "execute_result"
    }
   ],
   "source": [
    "x1"
   ]
  },
  {
   "cell_type": "code",
   "execution_count": 50,
   "id": "ea664e8a",
   "metadata": {},
   "outputs": [
    {
     "data": {
      "text/html": [
       "<div>\n",
       "<style scoped>\n",
       "    .dataframe tbody tr th:only-of-type {\n",
       "        vertical-align: middle;\n",
       "    }\n",
       "\n",
       "    .dataframe tbody tr th {\n",
       "        vertical-align: top;\n",
       "    }\n",
       "\n",
       "    .dataframe thead th {\n",
       "        text-align: right;\n",
       "    }\n",
       "</style>\n",
       "<table border=\"1\" class=\"dataframe\">\n",
       "  <thead>\n",
       "    <tr style=\"text-align: right;\">\n",
       "      <th></th>\n",
       "      <th>review</th>\n",
       "    </tr>\n",
       "  </thead>\n",
       "  <tbody>\n",
       "    <tr>\n",
       "      <th>0</th>\n",
       "      <td>one of the other reviewers has mentioned that ...</td>\n",
       "    </tr>\n",
       "    <tr>\n",
       "      <th>1</th>\n",
       "      <td>a wonderful little production. &lt;br /&gt;&lt;br /&gt;the...</td>\n",
       "    </tr>\n",
       "    <tr>\n",
       "      <th>2</th>\n",
       "      <td>i thought this was a wonderful way to spend ti...</td>\n",
       "    </tr>\n",
       "    <tr>\n",
       "      <th>3</th>\n",
       "      <td>basically there's a family where a little boy ...</td>\n",
       "    </tr>\n",
       "    <tr>\n",
       "      <th>4</th>\n",
       "      <td>petter mattei's \"love in the time of money\" is...</td>\n",
       "    </tr>\n",
       "    <tr>\n",
       "      <th>...</th>\n",
       "      <td>...</td>\n",
       "    </tr>\n",
       "    <tr>\n",
       "      <th>49995</th>\n",
       "      <td>i thought this movie did a down right good job...</td>\n",
       "    </tr>\n",
       "    <tr>\n",
       "      <th>49996</th>\n",
       "      <td>bad plot, bad dialogue, bad acting, idiotic di...</td>\n",
       "    </tr>\n",
       "    <tr>\n",
       "      <th>49997</th>\n",
       "      <td>i am a catholic taught in parochial elementary...</td>\n",
       "    </tr>\n",
       "    <tr>\n",
       "      <th>49998</th>\n",
       "      <td>i'm going to have to disagree with the previou...</td>\n",
       "    </tr>\n",
       "    <tr>\n",
       "      <th>49999</th>\n",
       "      <td>no one expects the star trek movies to be high...</td>\n",
       "    </tr>\n",
       "  </tbody>\n",
       "</table>\n",
       "<p>50000 rows × 1 columns</p>\n",
       "</div>"
      ],
      "text/plain": [
       "                                                  review\n",
       "0      one of the other reviewers has mentioned that ...\n",
       "1      a wonderful little production. <br /><br />the...\n",
       "2      i thought this was a wonderful way to spend ti...\n",
       "3      basically there's a family where a little boy ...\n",
       "4      petter mattei's \"love in the time of money\" is...\n",
       "...                                                  ...\n",
       "49995  i thought this movie did a down right good job...\n",
       "49996  bad plot, bad dialogue, bad acting, idiotic di...\n",
       "49997  i am a catholic taught in parochial elementary...\n",
       "49998  i'm going to have to disagree with the previou...\n",
       "49999  no one expects the star trek movies to be high...\n",
       "\n",
       "[50000 rows x 1 columns]"
      ]
     },
     "execution_count": 50,
     "metadata": {},
     "output_type": "execute_result"
    }
   ],
   "source": [
    "text[['review']]"
   ]
  },
  {
   "cell_type": "code",
   "execution_count": 51,
   "id": "71bb3bde",
   "metadata": {},
   "outputs": [],
   "source": [
    "from sklearn.feature_extraction.text import TfidfVectorizer"
   ]
  },
  {
   "cell_type": "code",
   "execution_count": 52,
   "id": "b2a8a44d",
   "metadata": {},
   "outputs": [],
   "source": [
    "tr_idf_model = TfidfVectorizer()\n",
    "tf_idf = tr_idf_model.fit_transform(text['review'])"
   ]
  },
  {
   "cell_type": "code",
   "execution_count": 53,
   "id": "12153e44",
   "metadata": {},
   "outputs": [
    {
     "data": {
      "text/plain": [
       "6826529"
      ]
     },
     "execution_count": 53,
     "metadata": {},
     "output_type": "execute_result"
    }
   ],
   "source": [
    "tf_idf.size"
   ]
  },
  {
   "cell_type": "code",
   "execution_count": 54,
   "id": "fe82b3c4",
   "metadata": {},
   "outputs": [
    {
     "name": "stdout",
     "output_type": "stream",
     "text": [
      "<class 'scipy.sparse._csr.csr_matrix'> (50000, 101895)\n"
     ]
    }
   ],
   "source": [
    "print(type(tf_idf), tf_idf.shape)"
   ]
  },
  {
   "cell_type": "code",
   "execution_count": 55,
   "id": "fa65b94e",
   "metadata": {
    "scrolled": true
   },
   "outputs": [
    {
     "name": "stdout",
     "output_type": "stream",
     "text": [
      "[[0. 1.]\n",
      " [0. 1.]\n",
      " [0. 1.]\n",
      " [1. 0.]\n",
      " [0. 1.]]\n"
     ]
    }
   ],
   "source": [
    "from keras.utils import np_utils\n",
    "npy=np_utils.to_categorical(y)\n",
    "print(npy[:5])"
   ]
  },
  {
   "cell_type": "code",
   "execution_count": 56,
   "id": "71815ddc",
   "metadata": {},
   "outputs": [],
   "source": [
    "from sklearn.model_selection import train_test_split\n",
    "x_train, x_test, y_train, y_test=train_test_split(x1, npy,test_size=.25,random_state=15)"
   ]
  },
  {
   "cell_type": "code",
   "execution_count": 57,
   "id": "dc0fd285",
   "metadata": {},
   "outputs": [
    {
     "name": "stdout",
     "output_type": "stream",
     "text": [
      "(37500, 101895)\n",
      "(12500, 101895)\n",
      "(37500, 2)\n",
      "(12500, 2)\n"
     ]
    }
   ],
   "source": [
    "print(x_train.shape)\n",
    "print(x_test.shape)\n",
    "print(y_train.shape)\n",
    "print(y_test.shape)"
   ]
  },
  {
   "cell_type": "code",
   "execution_count": 58,
   "id": "45ae4650",
   "metadata": {},
   "outputs": [],
   "source": [
    "from sklearn.preprocessing import StandardScaler\n",
    "sc= StandardScaler(with_mean=False)\n",
    "x_train = sc.fit_transform(x_train)\n",
    "x_test = sc.transform(x_test)"
   ]
  },
  {
   "cell_type": "code",
   "execution_count": 59,
   "id": "66e73e02",
   "metadata": {},
   "outputs": [
    {
     "name": "stdout",
     "output_type": "stream",
     "text": [
      "(37500, 101895)\n",
      "(12500, 101895)\n",
      "(37500, 2)\n",
      "(12500, 2)\n"
     ]
    }
   ],
   "source": [
    "print(x_train.shape)\n",
    "print(x_test.shape)\n",
    "print(y_train.shape)\n",
    "print(y_test.shape)"
   ]
  },
  {
   "cell_type": "code",
   "execution_count": 60,
   "id": "ce844f6b",
   "metadata": {},
   "outputs": [],
   "source": [
    "import tensorflow as tf\n",
    "from tensorflow import keras\n",
    "from keras.models import Sequential\n",
    "from keras.layers import Dense, Activation,Dropout\n",
    "from keras.optimizers import Adam\n",
    "from keras.metrics import categorical_crossentropy"
   ]
  },
  {
   "cell_type": "code",
   "execution_count": 61,
   "id": "c795565e",
   "metadata": {},
   "outputs": [],
   "source": [
    "model = Sequential()\n",
    "model.add(Dense(units=20,activation='relu', input_dim=101895))\n",
    "model.add(Dropout(0.1))\n",
    "model.add(Dense(units=2,activation='relu'))\n",
    "model.add(Dropout(0.1))\n",
    "model.add(Dense(units=2,activation='sigmoid'))"
   ]
  },
  {
   "cell_type": "code",
   "execution_count": 62,
   "id": "938f3108",
   "metadata": {},
   "outputs": [],
   "source": [
    "model.compile(optimizer='Adam', loss='categorical_crossentropy',metrics=['accuracy'])"
   ]
  },
  {
   "cell_type": "code",
   "execution_count": 63,
   "id": "5e92b45e",
   "metadata": {},
   "outputs": [
    {
     "name": "stdout",
     "output_type": "stream",
     "text": [
      "Model: \"sequential\"\n",
      "_________________________________________________________________\n",
      " Layer (type)                Output Shape              Param #   \n",
      "=================================================================\n",
      " dense (Dense)               (None, 20)                2037920   \n",
      "                                                                 \n",
      " dropout (Dropout)           (None, 20)                0         \n",
      "                                                                 \n",
      " dense_1 (Dense)             (None, 2)                 42        \n",
      "                                                                 \n",
      " dropout_1 (Dropout)         (None, 2)                 0         \n",
      "                                                                 \n",
      " dense_2 (Dense)             (None, 2)                 6         \n",
      "                                                                 \n",
      "=================================================================\n",
      "Total params: 2,037,968\n",
      "Trainable params: 2,037,968\n",
      "Non-trainable params: 0\n",
      "_________________________________________________________________\n"
     ]
    }
   ],
   "source": [
    "model.summary()"
   ]
  },
  {
   "cell_type": "code",
   "execution_count": 64,
   "id": "dfd8d9ee",
   "metadata": {},
   "outputs": [
    {
     "name": "stdout",
     "output_type": "stream",
     "text": [
      "Epoch 1/3\n",
      "1172/1172 [==============================] - 41s 33ms/step - loss: 0.4541 - accuracy: 0.7828 - val_loss: 0.3933 - val_accuracy: 0.8382\n",
      "Epoch 2/3\n",
      "1172/1172 [==============================] - 40s 34ms/step - loss: 0.2424 - accuracy: 0.8827 - val_loss: 0.3868 - val_accuracy: 0.8637\n",
      "Epoch 3/3\n",
      "1172/1172 [==============================] - 39s 33ms/step - loss: 0.1511 - accuracy: 0.9164 - val_loss: 0.4604 - val_accuracy: 0.8640\n"
     ]
    }
   ],
   "source": [
    "d=model.fit(x_train,y_train,validation_data=(x_test,y_test),epochs=3)"
   ]
  },
  {
   "cell_type": "code",
   "execution_count": 65,
   "id": "9df4bfb7",
   "metadata": {},
   "outputs": [],
   "source": [
    "from sklearn.feature_extraction.text import CountVectorizer\n",
    "from nltk.tokenize import RegexpTokenizer\n",
    "token = RegexpTokenizer(r'[a-zA-Z0-9]+')\n",
    "cv = CountVectorizer(lowercase=True,stop_words='english',ngram_range=(1,1))\n",
    "X= cv.fit_transform(text['review'])"
   ]
  },
  {
   "cell_type": "code",
   "execution_count": 66,
   "id": "4bb2540e",
   "metadata": {},
   "outputs": [
    {
     "data": {
      "text/plain": [
       "<50000x101583 sparse matrix of type '<class 'numpy.int64'>'\n",
       "\twith 4434500 stored elements in Compressed Sparse Row format>"
      ]
     },
     "execution_count": 66,
     "metadata": {},
     "output_type": "execute_result"
    }
   ],
   "source": [
    "X"
   ]
  },
  {
   "cell_type": "code",
   "execution_count": 67,
   "id": "18efba35",
   "metadata": {},
   "outputs": [],
   "source": [
    "from sklearn.feature_extraction.text import TfidfVectorizer"
   ]
  },
  {
   "cell_type": "code",
   "execution_count": 68,
   "id": "d0ef0fa2",
   "metadata": {},
   "outputs": [
    {
     "data": {
      "text/plain": [
       "<50000x101895 sparse matrix of type '<class 'numpy.float64'>'\n",
       "\twith 6826529 stored elements in Compressed Sparse Row format>"
      ]
     },
     "execution_count": 68,
     "metadata": {},
     "output_type": "execute_result"
    }
   ],
   "source": [
    "tf=TfidfVectorizer()\n",
    "X=tf.fit_transform(text['review'])\n",
    "X"
   ]
  },
  {
   "cell_type": "code",
   "execution_count": 69,
   "id": "b1665bd9",
   "metadata": {},
   "outputs": [
    {
     "data": {
      "text/plain": [
       "array([1, 1, 1, ..., 0, 0, 0])"
      ]
     },
     "execution_count": 69,
     "metadata": {},
     "output_type": "execute_result"
    }
   ],
   "source": [
    "from sklearn.preprocessing import LabelEncoder\n",
    "lb=LabelEncoder()\n",
    "y=lb.fit_transform(df['sentiment'])\n",
    "y"
   ]
  },
  {
   "cell_type": "code",
   "execution_count": 70,
   "id": "2175b58e",
   "metadata": {},
   "outputs": [],
   "source": [
    "from sklearn.model_selection import train_test_split\n",
    "x_train, x_test, y_train, y_test=train_test_split(X, y, test_size=.25)"
   ]
  },
  {
   "cell_type": "code",
   "execution_count": 71,
   "id": "ea852454",
   "metadata": {},
   "outputs": [
    {
     "name": "stdout",
     "output_type": "stream",
     "text": [
      "(37500, 101895)\n",
      "(12500, 101895)\n",
      "(37500,)\n",
      "(12500,)\n"
     ]
    }
   ],
   "source": [
    "print(x_train.shape)\n",
    "print(x_test.shape)\n",
    "print(y_train.shape)\n",
    "print(y_test.shape)"
   ]
  },
  {
   "cell_type": "code",
   "execution_count": 72,
   "id": "1e185a1e",
   "metadata": {},
   "outputs": [],
   "source": [
    "from sklearn.preprocessing import StandardScaler\n",
    "sc=StandardScaler(with_mean=False)\n",
    "x_train = sc.fit_transform(x_train)\n",
    "x_test=sc.transform(x_test)\n"
   ]
  },
  {
   "cell_type": "code",
   "execution_count": 73,
   "id": "5168bce9",
   "metadata": {},
   "outputs": [],
   "source": [
    "from sklearn.naive_bayes import MultinomialNB\n",
    "from sklearn import metrics"
   ]
  },
  {
   "cell_type": "code",
   "execution_count": 74,
   "id": "e78fbaed",
   "metadata": {},
   "outputs": [
    {
     "data": {
      "text/html": [
       "<style>#sk-container-id-1 {color: black;background-color: white;}#sk-container-id-1 pre{padding: 0;}#sk-container-id-1 div.sk-toggleable {background-color: white;}#sk-container-id-1 label.sk-toggleable__label {cursor: pointer;display: block;width: 100%;margin-bottom: 0;padding: 0.3em;box-sizing: border-box;text-align: center;}#sk-container-id-1 label.sk-toggleable__label-arrow:before {content: \"▸\";float: left;margin-right: 0.25em;color: #696969;}#sk-container-id-1 label.sk-toggleable__label-arrow:hover:before {color: black;}#sk-container-id-1 div.sk-estimator:hover label.sk-toggleable__label-arrow:before {color: black;}#sk-container-id-1 div.sk-toggleable__content {max-height: 0;max-width: 0;overflow: hidden;text-align: left;background-color: #f0f8ff;}#sk-container-id-1 div.sk-toggleable__content pre {margin: 0.2em;color: black;border-radius: 0.25em;background-color: #f0f8ff;}#sk-container-id-1 input.sk-toggleable__control:checked~div.sk-toggleable__content {max-height: 200px;max-width: 100%;overflow: auto;}#sk-container-id-1 input.sk-toggleable__control:checked~label.sk-toggleable__label-arrow:before {content: \"▾\";}#sk-container-id-1 div.sk-estimator input.sk-toggleable__control:checked~label.sk-toggleable__label {background-color: #d4ebff;}#sk-container-id-1 div.sk-label input.sk-toggleable__control:checked~label.sk-toggleable__label {background-color: #d4ebff;}#sk-container-id-1 input.sk-hidden--visually {border: 0;clip: rect(1px 1px 1px 1px);clip: rect(1px, 1px, 1px, 1px);height: 1px;margin: -1px;overflow: hidden;padding: 0;position: absolute;width: 1px;}#sk-container-id-1 div.sk-estimator {font-family: monospace;background-color: #f0f8ff;border: 1px dotted black;border-radius: 0.25em;box-sizing: border-box;margin-bottom: 0.5em;}#sk-container-id-1 div.sk-estimator:hover {background-color: #d4ebff;}#sk-container-id-1 div.sk-parallel-item::after {content: \"\";width: 100%;border-bottom: 1px solid gray;flex-grow: 1;}#sk-container-id-1 div.sk-label:hover label.sk-toggleable__label {background-color: #d4ebff;}#sk-container-id-1 div.sk-serial::before {content: \"\";position: absolute;border-left: 1px solid gray;box-sizing: border-box;top: 0;bottom: 0;left: 50%;z-index: 0;}#sk-container-id-1 div.sk-serial {display: flex;flex-direction: column;align-items: center;background-color: white;padding-right: 0.2em;padding-left: 0.2em;position: relative;}#sk-container-id-1 div.sk-item {position: relative;z-index: 1;}#sk-container-id-1 div.sk-parallel {display: flex;align-items: stretch;justify-content: center;background-color: white;position: relative;}#sk-container-id-1 div.sk-item::before, #sk-container-id-1 div.sk-parallel-item::before {content: \"\";position: absolute;border-left: 1px solid gray;box-sizing: border-box;top: 0;bottom: 0;left: 50%;z-index: -1;}#sk-container-id-1 div.sk-parallel-item {display: flex;flex-direction: column;z-index: 1;position: relative;background-color: white;}#sk-container-id-1 div.sk-parallel-item:first-child::after {align-self: flex-end;width: 50%;}#sk-container-id-1 div.sk-parallel-item:last-child::after {align-self: flex-start;width: 50%;}#sk-container-id-1 div.sk-parallel-item:only-child::after {width: 0;}#sk-container-id-1 div.sk-dashed-wrapped {border: 1px dashed gray;margin: 0 0.4em 0.5em 0.4em;box-sizing: border-box;padding-bottom: 0.4em;background-color: white;}#sk-container-id-1 div.sk-label label {font-family: monospace;font-weight: bold;display: inline-block;line-height: 1.2em;}#sk-container-id-1 div.sk-label-container {text-align: center;}#sk-container-id-1 div.sk-container {/* jupyter's `normalize.less` sets `[hidden] { display: none; }` but bootstrap.min.css set `[hidden] { display: none !important; }` so we also need the `!important` here to be able to override the default hidden behavior on the sphinx rendered scikit-learn.org. See: https://github.com/scikit-learn/scikit-learn/issues/21755 */display: inline-block !important;position: relative;}#sk-container-id-1 div.sk-text-repr-fallback {display: none;}</style><div id=\"sk-container-id-1\" class=\"sk-top-container\"><div class=\"sk-text-repr-fallback\"><pre>MultinomialNB()</pre><b>In a Jupyter environment, please rerun this cell to show the HTML representation or trust the notebook. <br />On GitHub, the HTML representation is unable to render, please try loading this page with nbviewer.org.</b></div><div class=\"sk-container\" hidden><div class=\"sk-item\"><div class=\"sk-estimator sk-toggleable\"><input class=\"sk-toggleable__control sk-hidden--visually\" id=\"sk-estimator-id-1\" type=\"checkbox\" checked><label for=\"sk-estimator-id-1\" class=\"sk-toggleable__label sk-toggleable__label-arrow\">MultinomialNB</label><div class=\"sk-toggleable__content\"><pre>MultinomialNB()</pre></div></div></div></div></div>"
      ],
      "text/plain": [
       "MultinomialNB()"
      ]
     },
     "execution_count": 74,
     "metadata": {},
     "output_type": "execute_result"
    }
   ],
   "source": [
    "nb= MultinomialNB().fit(x_train,y_train)\n",
    "nb"
   ]
  },
  {
   "cell_type": "code",
   "execution_count": 75,
   "id": "a184c134",
   "metadata": {},
   "outputs": [
    {
     "data": {
      "text/plain": [
       "0.73904"
      ]
     },
     "execution_count": 75,
     "metadata": {},
     "output_type": "execute_result"
    }
   ],
   "source": [
    "nb.score(x_test,y_test)"
   ]
  },
  {
   "cell_type": "code",
   "execution_count": 76,
   "id": "620b7dbd",
   "metadata": {},
   "outputs": [
    {
     "name": "stdout",
     "output_type": "stream",
     "text": [
      "12500\n"
     ]
    },
    {
     "data": {
      "text/plain": [
       "array([1, 1, 0, ..., 0, 1, 1])"
      ]
     },
     "execution_count": 76,
     "metadata": {},
     "output_type": "execute_result"
    }
   ],
   "source": [
    "y_pred_nb=nb.predict(x_test)\n",
    "print(len(y_pred_nb))\n",
    "y_pred_nb"
   ]
  },
  {
   "cell_type": "code",
   "execution_count": 77,
   "id": "fe46bd69",
   "metadata": {},
   "outputs": [],
   "source": [
    "from sklearn.metrics import confusion_matrix\n",
    "from sklearn.metrics import classification_report\n",
    "from sklearn.metrics import accuracy_score"
   ]
  },
  {
   "cell_type": "code",
   "execution_count": 78,
   "id": "298e21bf",
   "metadata": {},
   "outputs": [
    {
     "data": {
      "text/plain": [
       "0.73904"
      ]
     },
     "execution_count": 78,
     "metadata": {},
     "output_type": "execute_result"
    }
   ],
   "source": [
    "metrics.accuracy_score(y_test,y_pred_nb)"
   ]
  },
  {
   "cell_type": "code",
   "execution_count": 79,
   "id": "f7d35ec4",
   "metadata": {},
   "outputs": [
    {
     "name": "stdout",
     "output_type": "stream",
     "text": [
      "[[4724 1563]\n",
      " [1699 4514]]\n"
     ]
    }
   ],
   "source": [
    "print(confusion_matrix(y_test,y_pred_nb))"
   ]
  },
  {
   "cell_type": "code",
   "execution_count": null,
   "id": "9f09907d",
   "metadata": {},
   "outputs": [],
   "source": []
  }
 ],
 "metadata": {
  "kernelspec": {
   "display_name": "Python 3 (ipykernel)",
   "language": "python",
   "name": "python3"
  },
  "language_info": {
   "codemirror_mode": {
    "name": "ipython",
    "version": 3
   },
   "file_extension": ".py",
   "mimetype": "text/x-python",
   "name": "python",
   "nbconvert_exporter": "python",
   "pygments_lexer": "ipython3",
   "version": "3.10.0"
  }
 },
 "nbformat": 4,
 "nbformat_minor": 5
}
